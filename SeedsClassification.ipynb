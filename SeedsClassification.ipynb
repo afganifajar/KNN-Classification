{
  "nbformat": 4,
  "nbformat_minor": 0,
  "metadata": {
    "colab": {
      "name": "SeedsClassification.ipynb",
      "provenance": [],
      "collapsed_sections": []
    },
    "kernelspec": {
      "name": "python3",
      "display_name": "Python 3"
    }
  },
  "cells": [
    {
      "cell_type": "code",
      "metadata": {
        "colab": {
          "base_uri": "https://localhost:8080/"
        },
        "id": "6IjDkMEBwB56",
        "outputId": "431263a5-3fc8-43e0-e20a-ebccf8ae4774"
      },
      "source": [
        "!wget --recursive --no-parent -O /content/seeds_dataset.txt \"https://archive.ics.uci.edu/ml/machine-learning-databases/00236/seeds_dataset.txt\""
      ],
      "execution_count": 1,
      "outputs": [
        {
          "output_type": "stream",
          "text": [
            "WARNING: combining -O with -r or -p will mean that all downloaded content\n",
            "will be placed in the single file you specified.\n",
            "\n",
            "--2021-01-12 20:33:11--  https://archive.ics.uci.edu/ml/machine-learning-databases/00236/seeds_dataset.txt\n",
            "Resolving archive.ics.uci.edu (archive.ics.uci.edu)... 128.195.10.252\n",
            "Connecting to archive.ics.uci.edu (archive.ics.uci.edu)|128.195.10.252|:443... connected.\n",
            "HTTP request sent, awaiting response... 200 OK\n",
            "Length: 9300 (9.1K) [application/x-httpd-php]\n",
            "Saving to: ‘/content/seeds_dataset.txt’\n",
            "\n",
            "/content/seeds_data 100%[===================>]   9.08K  --.-KB/s    in 0s      \n",
            "\n",
            "2021-01-12 20:33:12 (27.6 MB/s) - ‘/content/seeds_dataset.txt’ saved [9300/9300]\n",
            "\n",
            "FINISHED --2021-01-12 20:33:12--\n",
            "Total wall clock time: 0.7s\n",
            "Downloaded: 1 files, 9.1K in 0s (27.6 MB/s)\n"
          ],
          "name": "stdout"
        }
      ]
    },
    {
      "cell_type": "code",
      "metadata": {
        "colab": {
          "base_uri": "https://localhost:8080/"
        },
        "id": "PsWLDUX-zkd1",
        "outputId": "50dfa0c9-7be0-402d-d0d9-1a87e970e03b"
      },
      "source": [
        "files = open(\"seeds_dataset.txt\", \"r\").read()\r\n",
        "\r\n",
        "# convert data to list 2 dimension\r\n",
        "data = files.split(\"\\n\")\r\n",
        "for i in range(len(data)):\r\n",
        "    data[i] = data[i].split(\"\\t\")\r\n",
        "\r\n",
        "# remove missing value\r\n",
        "for i in data:\r\n",
        "  while \"\" in i:\r\n",
        "    i.remove(\"\")\r\n",
        "\r\n",
        "# convert string to float\r\n",
        "data = [[float(i) for i in j] for j in data]\r\n",
        "\r\n",
        "data[:10]"
      ],
      "execution_count": 2,
      "outputs": [
        {
          "output_type": "execute_result",
          "data": {
            "text/plain": [
              "[[15.26, 14.84, 0.871, 5.763, 3.312, 2.221, 5.22, 1.0],\n",
              " [14.88, 14.57, 0.8811, 5.554, 3.333, 1.018, 4.956, 1.0],\n",
              " [14.29, 14.09, 0.905, 5.291, 3.337, 2.699, 4.825, 1.0],\n",
              " [13.84, 13.94, 0.8955, 5.324, 3.379, 2.259, 4.805, 1.0],\n",
              " [16.14, 14.99, 0.9034, 5.658, 3.562, 1.355, 5.175, 1.0],\n",
              " [14.38, 14.21, 0.8951, 5.386, 3.312, 2.462, 4.956, 1.0],\n",
              " [14.69, 14.49, 0.8799, 5.563, 3.259, 3.586, 5.219, 1.0],\n",
              " [14.11, 14.1, 0.8911, 5.42, 3.302, 2.7, 5.0, 1.0],\n",
              " [16.63, 15.46, 0.8747, 6.053, 3.465, 2.04, 5.877, 1.0],\n",
              " [16.44, 15.25, 0.888, 5.884, 3.505, 1.969, 5.533, 1.0]]"
            ]
          },
          "metadata": {
            "tags": []
          },
          "execution_count": 2
        }
      ]
    },
    {
      "cell_type": "code",
      "metadata": {
        "id": "r47tSDuH7W2C"
      },
      "source": [
        "def euclidian(data, newData):\r\n",
        "  distance = []\r\n",
        "  for i in data:\r\n",
        "    dist = 0\r\n",
        "    for j in range(len(newData)):\r\n",
        "      dist += (newData[j] - i[j]) ** 2\r\n",
        "    dist = dist ** (.5)\r\n",
        "    dist = [dist, i[7]]\r\n",
        "    distance.append(dist)\r\n",
        "  return distance\r\n",
        "\r\n",
        "def getKNearest(distance, k):\r\n",
        "  distance.sort(key=lambda x: x[0])\r\n",
        "  distance = distance[:k]\r\n",
        "  return distance\r\n",
        "\r\n",
        "def voting(distance):\r\n",
        "  votingList = [0,0,0]\r\n",
        "  for i in distance:\r\n",
        "    vote = 1 / (i[0] ** 2)\r\n",
        "    class_ = int(i[1]-1)\r\n",
        "    votingList[class_] += vote\r\n",
        "  return votingList"
      ],
      "execution_count": 3,
      "outputs": []
    },
    {
      "cell_type": "code",
      "metadata": {
        "colab": {
          "base_uri": "https://localhost:8080/"
        },
        "id": "SXUh_MMSNR4r",
        "outputId": "d3187eea-7e33-4bf8-d3c6-5d5a2afc42db"
      },
      "source": [
        "newData = [17.84, 14.23, 0.9123, 6.123, 3.192, 1.728, 5.111]\r\n",
        "kValue = 20\r\n",
        "\r\n",
        "distance = euclidian(data, newData)\r\n",
        "print('Jarak Kedekatan:')\r\n",
        "print(distance[:10])\r\n",
        "print()\r\n",
        "\r\n",
        "distance = getKNearest(distance, kValue)\r\n",
        "print(\"{} Data Terdekat\".format(kValue))\r\n",
        "print(distance)\r\n",
        "print()\r\n",
        "\r\n",
        "voteResult = voting(distance)\r\n",
        "print('Hasil Voting')\r\n",
        "print(voteResult)\r\n",
        "print()\r\n",
        "\r\n",
        "finalClass = voteResult.index(max(voteResult)) + 1\r\n",
        "print(\"Data baru masuk ke class ke\" , finalClass)"
      ],
      "execution_count": 4,
      "outputs": [
        {
          "output_type": "stream",
          "text": [
            "Jarak Kedekatan:\n",
            "[[2.725644087183798, 1.0], [3.1224894619517922, 1.0], [3.7894642484129606, 1.0], [4.139245008452629, 1.0], [1.9909869939303966, 1.0], [3.6183761330187876, 1.0], [3.7112082614695723, 1.0], [3.923475938501472, 1.0], [1.9344101840095866, 1.0], [1.8418049543857775, 1.0]]\n",
            "\n",
            "20 Data Terdekat\n",
            "[[1.8418049543857775, 1.0], [1.9048728592743394, 2.0], [1.9344101840095866, 1.0], [1.9602640128309239, 2.0], [1.9679924694977884, 1.0], [1.9909869939303966, 1.0], [2.0385935372211894, 2.0], [2.0524824700834827, 1.0], [2.1080163092348205, 1.0], [2.2363655872866586, 2.0], [2.293248623677773, 2.0], [2.303689911858799, 1.0], [2.3046211489092943, 2.0], [2.3179103196629502, 1.0], [2.355619258284326, 2.0], [2.36061616109015, 1.0], [2.437084971846489, 2.0], [2.556107814627545, 2.0], [2.581192687499327, 2.0], [2.586745917170838, 2.0]]\n",
            "\n",
            "Hasil Voting\n",
            "[2.088921039994825, 2.1560072989718715, 0]\n",
            "\n",
            "Data baru masuk ke class ke 2\n"
          ],
          "name": "stdout"
        }
      ]
    }
  ]
}